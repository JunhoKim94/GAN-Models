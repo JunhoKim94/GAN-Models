{
 "cells": [
  {
   "cell_type": "code",
   "execution_count": 1,
   "metadata": {},
   "outputs": [],
   "source": [
    "import numpy as np\n",
    "import torch\n",
    "import os\n",
    "import cv2\n",
    "import torch.nn as nn\n",
    "import torch.nn.functional as F\n",
    "import matplotlib.pyplot as plt\n",
    "import pandas as pd"
   ]
  },
  {
   "cell_type": "code",
   "execution_count": 2,
   "metadata": {},
   "outputs": [],
   "source": [
    "def load_fashion_mnist(data_path):\n",
    "    cifar_path = os.path.join(data_path, 'fashion_mnist')\n",
    "\n",
    "    x_train = np.load(os.path.join(cifar_path, 'fashion_train_x.npy'))\n",
    "    y_train = np.load(os.path.join(cifar_path, 'fashion_train_y.npy'))\n",
    "    x_test = np.load(os.path.join(cifar_path, 'fashion_test_x.npy'))\n",
    "    y_test = np.load(os.path.join(cifar_path, 'fashion_test_y.npy'))\n",
    "\n",
    "    # Flatten X\n",
    "    x_train = x_train.reshape(len(x_train), -1)\n",
    "    x_test = x_test.reshape(len(x_test), -1)\n",
    "\n",
    "    return x_train, y_train, x_test, y_test\n",
    "\n",
    "def load_mnist(data_path):\n",
    "    tt = pd.read_csv(data_path)\n",
    "    tt = np.array(tt)\n",
    "    \n",
    "    x_train = tt[:, 1:]\n",
    "    y_train = tt[:, 1]\n",
    "    \n",
    "    return x_train, y_train"
   ]
  },
  {
   "cell_type": "code",
   "execution_count": 3,
   "metadata": {},
   "outputs": [],
   "source": [
    "x_train, y_train = load_mnist(\"./data/mnist/mnist_train.csv\")\n",
    "#x_train, y_train, x_test, y_test =load_fashion_mnist(\"./data\")"
   ]
  },
  {
   "cell_type": "code",
   "execution_count": 4,
   "metadata": {},
   "outputs": [
    {
     "output_type": "execute_result",
     "data": {
      "text/plain": "True"
     },
     "metadata": {},
     "execution_count": 4
    }
   ],
   "source": [
    "input_dim = x_train.shape[1]\n",
    "total_data = x_train.shape[0]\n",
    "batch = 100\n",
    "hidden = 256\n",
    "classes = max(y_train)\n",
    "epochs = 10\n",
    "k = 5\n",
    "noise_input = 128\n",
    "lr = 0.001\n",
    "device = torch.device(\"cuda:0\" if torch.cuda.is_available() else 'cpu')\n",
    "torch.cuda.is_available()\n",
    "#device = torch.device(\"cpu\")"
   ]
  },
  {
   "cell_type": "code",
   "execution_count": 5,
   "metadata": {},
   "outputs": [],
   "source": [
    "G = nn.Sequential(\n",
    "    nn.Linear(noise_input, hidden),\n",
    "    nn.ReLU(),\n",
    "    nn.Linear(hidden, input_dim),\n",
    ").to(device)\n",
    "D = nn.Sequential(nn.Linear(input_dim, hidden),\n",
    "                  nn.LeakyReLU(),\n",
    "                 nn.Linear(hidden,1),\n",
    "                 nn.Sigmoid()).to(device)"
   ]
  },
  {
   "cell_type": "code",
   "execution_count": 364,
   "metadata": {},
   "outputs": [],
   "source": [
    "G_optimizer = torch.optim.Adam(G.parameters(), lr = lr)\n",
    "D_optimizer = torch.optim.Adam(D.parameters(), lr = lr)"
   ]
  },
  {
   "cell_type": "code",
   "execution_count": 365,
   "metadata": {},
   "outputs": [],
   "source": [
    "criterion = nn.BCELoss()"
   ]
  },
  {
   "cell_type": "code",
   "execution_count": 366,
   "metadata": {},
   "outputs": [
    {
     "name": "stdout",
     "output_type": "stream",
     "text": [
      "G loss : 11.455000877380371  | D loss  :  0.09698876738548279\n",
      "G loss : 50.4973258972168  | D loss  :  0.27683505415916443\n",
      "G loss : 48.60011672973633  | D loss  :  1.19209286886246e-09\n",
      "G loss : 42.07880783081055  | D loss  :  4.6155761083355173e-05\n",
      "G loss : 40.66522979736328  | D loss  :  1.4278931617736816\n",
      "G loss : 30.78582191467285  | D loss  :  0.2763102054595947\n",
      "G loss : 29.763437271118164  | D loss  :  0.2763102054595947\n",
      "G loss : 30.4794979095459  | D loss  :  0.1433294713497162\n",
      "G loss : 30.36306381225586  | D loss  :  0.0\n",
      "G loss : 32.11591720581055  | D loss  :  1.6578612327575684\n",
      "G loss : 27.938701629638672  | D loss  :  1.105240821838379\n"
     ]
    }
   ],
   "source": [
    "for epoch in range(epochs + 1):\n",
    "    for iteration in range(total_data // batch):\n",
    "        z = np.random.normal(size = (batch, noise_input))\n",
    "        z = torch.Tensor(z).to(device)\n",
    "\n",
    "        seed = np.random.choice(total_data, batch)\n",
    "        x_batch = torch.Tensor(x_train[seed,:]).to(device)\n",
    "        y_batch = torch.ones(batch,1).to(device)\n",
    "        y_noise = torch.zeros(batch,1).to(device)\n",
    "        for i in range(k):\n",
    "            G_out = G(z)\n",
    "            D_loss = criterion(D(x_batch), y_batch) + criterion(D(G(z)), y_noise)\n",
    "            D_optimizer.zero_grad()\n",
    "            D_loss.backward()\n",
    "            D_optimizer.step()\n",
    "\n",
    "        G_loss = criterion(D(G(z)), y_batch)\n",
    "        G_optimizer.zero_grad()\n",
    "        G_loss.backward()\n",
    "        G_optimizer.step()\n",
    "        \n",
    "    if epoch % 1 == 0:\n",
    "        print(f\"G loss : {G_loss}  | D loss  :  {D_loss}\")"
   ]
  },
  {
   "cell_type": "code",
   "execution_count": 367,
   "metadata": {},
   "outputs": [],
   "source": [
    "noise = np.random.normal(size = (10, noise_input))\n",
    "noise = torch.Tensor(noise)\n",
    "noise.requires_grad_(False)\n",
    "img = G(noise)"
   ]
  },
  {
   "cell_type": "code",
   "execution_count": 368,
   "metadata": {},
   "outputs": [],
   "source": [
    "img = img.reshape(10,28,28)"
   ]
  },
  {
   "cell_type": "code",
   "execution_count": 383,
   "metadata": {},
   "outputs": [
    {
     "data": {
      "text/plain": [
       "<matplotlib.image.AxesImage at 0x21c80a91a08>"
      ]
     },
     "execution_count": 383,
     "metadata": {},
     "output_type": "execute_result"
    },
    {
     "data": {
      "image/png": "[encoded data removed]",
      "text/plain": [
       "<Figure size 432x288 with 1 Axes>"
      ]
     },
     "metadata": {
      "needs_background": "light"
     },
     "output_type": "display_data"
    }
   ],
   "source": [
    "i = np.random.choice(10,1)\n",
    "image = img[i]\n",
    "image = image.reshape(28,28)\n",
    "image = np.array(image.detach(), dtype = np.uint8)\n",
    "plt.imshow(image)"
   ]
  },
  {
   "cell_type": "code",
   "execution_count": 352,
   "metadata": {},
   "outputs": [
    {
     "data": {
      "text/plain": [
       "<matplotlib.image.AxesImage at 0x21c7f48ab88>"
      ]
     },
     "execution_count": 352,
     "metadata": {},
     "output_type": "execute_result"
    },
    {
     "data": {
      "image/png": "[encoded data removed]",
      "text/plain": [
       "<Figure size 432x288 with 1 Axes>"
      ]
     },
     "metadata": {
      "needs_background": "light"
     },
     "output_type": "display_data"
    }
   ],
   "source": [
    "test = np.array(x_train[50] * 255, dtype= np.uint8).reshape(28,28)\n",
    "plt.imshow(test)"
   ]
  },
  {
   "cell_type": "code",
   "execution_count": null,
   "metadata": {},
   "outputs": [],
   "source": []
  }
 ],
 "metadata": {
  "kernelspec": {
   "display_name": "Python 3",
   "language": "python",
   "name": "python3"
  },
  "language_info": {
   "codemirror_mode": {
    "name": "ipython",
    "version": 3
   },
   "file_extension": ".py",
   "mimetype": "text/x-python",
   "name": "python",
   "nbconvert_exporter": "python",
   "pygments_lexer": "ipython3",
   "version": "3.7.4-final"
  }
 },
 "nbformat": 4,
 "nbformat_minor": 2
}